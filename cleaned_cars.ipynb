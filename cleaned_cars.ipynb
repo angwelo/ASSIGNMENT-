{
  "cells": [
    {
      "cell_type": "markdown",
      "metadata": {
        "id": "view-in-github",
        "colab_type": "text"
      },
      "source": [
        "<a href=\"https://colab.research.google.com/github/angwelo/ASSIGNMENT-/blob/main/cleaned_cars.ipynb\" target=\"_parent\"><img src=\"https://colab.research.google.com/assets/colab-badge.svg\" alt=\"Open In Colab\"/></a>"
      ]
    },
    {
      "cell_type": "code",
      "execution_count": null,
      "id": "bd749f04",
      "metadata": {
        "id": "bd749f04"
      },
      "outputs": [],
      "source": [
        "import matplotlib.pyplot as plt\n",
        "import seaborn as sns\n",
        "import pandas as pd\n",
        "from datetime import datetime"
      ]
    },
    {
      "cell_type": "code",
      "execution_count": null,
      "id": "88b029b6",
      "metadata": {
        "id": "88b029b6",
        "outputId": "940fe95b-6dff-497f-c609-6935603e153a"
      },
      "outputs": [
        {
          "data": {
            "text/html": [
              "<div>\n",
              "<style scoped>\n",
              "    .dataframe tbody tr th:only-of-type {\n",
              "        vertical-align: middle;\n",
              "    }\n",
              "\n",
              "    .dataframe tbody tr th {\n",
              "        vertical-align: top;\n",
              "    }\n",
              "\n",
              "    .dataframe thead th {\n",
              "        text-align: right;\n",
              "    }\n",
              "</style>\n",
              "<table border=\"1\" class=\"dataframe\">\n",
              "  <thead>\n",
              "    <tr style=\"text-align: right;\">\n",
              "      <th></th>\n",
              "      <th>name</th>\n",
              "      <th>year</th>\n",
              "      <th>selling_price</th>\n",
              "      <th>km_driven</th>\n",
              "      <th>fuel</th>\n",
              "      <th>seller_type</th>\n",
              "      <th>transmission</th>\n",
              "      <th>owner</th>\n",
              "      <th>mileage(km/ltr/kg)</th>\n",
              "      <th>engine</th>\n",
              "      <th>max_power</th>\n",
              "      <th>seats</th>\n",
              "    </tr>\n",
              "  </thead>\n",
              "  <tbody>\n",
              "    <tr>\n",
              "      <th>0</th>\n",
              "      <td>Maruti Swift Dzire VDI</td>\n",
              "      <td>2014</td>\n",
              "      <td>450000</td>\n",
              "      <td>145500</td>\n",
              "      <td>Diesel</td>\n",
              "      <td>Individual</td>\n",
              "      <td>Manual</td>\n",
              "      <td>First Owner</td>\n",
              "      <td>23.40</td>\n",
              "      <td>1248.0</td>\n",
              "      <td>74</td>\n",
              "      <td>5.0</td>\n",
              "    </tr>\n",
              "    <tr>\n",
              "      <th>1</th>\n",
              "      <td>Skoda Rapid 1.5 TDI Ambition</td>\n",
              "      <td>2014</td>\n",
              "      <td>370000</td>\n",
              "      <td>120000</td>\n",
              "      <td>Diesel</td>\n",
              "      <td>Individual</td>\n",
              "      <td>Manual</td>\n",
              "      <td>Second Owner</td>\n",
              "      <td>21.14</td>\n",
              "      <td>1498.0</td>\n",
              "      <td>103.52</td>\n",
              "      <td>5.0</td>\n",
              "    </tr>\n",
              "    <tr>\n",
              "      <th>2</th>\n",
              "      <td>Honda City 2017-2020 EXi</td>\n",
              "      <td>2006</td>\n",
              "      <td>158000</td>\n",
              "      <td>140000</td>\n",
              "      <td>Petrol</td>\n",
              "      <td>Individual</td>\n",
              "      <td>Manual</td>\n",
              "      <td>Third Owner</td>\n",
              "      <td>17.70</td>\n",
              "      <td>1497.0</td>\n",
              "      <td>78</td>\n",
              "      <td>5.0</td>\n",
              "    </tr>\n",
              "    <tr>\n",
              "      <th>3</th>\n",
              "      <td>Hyundai i20 Sportz Diesel</td>\n",
              "      <td>2010</td>\n",
              "      <td>225000</td>\n",
              "      <td>127000</td>\n",
              "      <td>Diesel</td>\n",
              "      <td>Individual</td>\n",
              "      <td>Manual</td>\n",
              "      <td>First Owner</td>\n",
              "      <td>23.00</td>\n",
              "      <td>1396.0</td>\n",
              "      <td>90</td>\n",
              "      <td>5.0</td>\n",
              "    </tr>\n",
              "    <tr>\n",
              "      <th>4</th>\n",
              "      <td>Maruti Swift VXI BSIII</td>\n",
              "      <td>2007</td>\n",
              "      <td>130000</td>\n",
              "      <td>120000</td>\n",
              "      <td>Petrol</td>\n",
              "      <td>Individual</td>\n",
              "      <td>Manual</td>\n",
              "      <td>First Owner</td>\n",
              "      <td>16.10</td>\n",
              "      <td>1298.0</td>\n",
              "      <td>88.2</td>\n",
              "      <td>5.0</td>\n",
              "    </tr>\n",
              "  </tbody>\n",
              "</table>\n",
              "</div>"
            ],
            "text/plain": [
              "                           name  year  selling_price  km_driven    fuel  \\\n",
              "0        Maruti Swift Dzire VDI  2014         450000     145500  Diesel   \n",
              "1  Skoda Rapid 1.5 TDI Ambition  2014         370000     120000  Diesel   \n",
              "2      Honda City 2017-2020 EXi  2006         158000     140000  Petrol   \n",
              "3     Hyundai i20 Sportz Diesel  2010         225000     127000  Diesel   \n",
              "4        Maruti Swift VXI BSIII  2007         130000     120000  Petrol   \n",
              "\n",
              "  seller_type transmission         owner  mileage(km/ltr/kg)  engine  \\\n",
              "0  Individual       Manual   First Owner               23.40  1248.0   \n",
              "1  Individual       Manual  Second Owner               21.14  1498.0   \n",
              "2  Individual       Manual   Third Owner               17.70  1497.0   \n",
              "3  Individual       Manual   First Owner               23.00  1396.0   \n",
              "4  Individual       Manual   First Owner               16.10  1298.0   \n",
              "\n",
              "  max_power  seats  \n",
              "0        74    5.0  \n",
              "1    103.52    5.0  \n",
              "2        78    5.0  \n",
              "3        90    5.0  \n",
              "4      88.2    5.0  "
            ]
          },
          "execution_count": 2,
          "metadata": {},
          "output_type": "execute_result"
        }
      ],
      "source": [
        "#load dataset\n",
        "df = pd.read_csv(r\"C:/Users/Hp/Downloads/archive/cardekho.csv\")\n",
        "df.head()\n"
      ]
    },
    {
      "cell_type": "code",
      "execution_count": null,
      "id": "14c0426e",
      "metadata": {
        "id": "14c0426e",
        "outputId": "12a25296-c5ea-4566-9cd2-fb1088feca3d"
      },
      "outputs": [
        {
          "data": {
            "text/html": [
              "<div>\n",
              "<style scoped>\n",
              "    .dataframe tbody tr th:only-of-type {\n",
              "        vertical-align: middle;\n",
              "    }\n",
              "\n",
              "    .dataframe tbody tr th {\n",
              "        vertical-align: top;\n",
              "    }\n",
              "\n",
              "    .dataframe thead th {\n",
              "        text-align: right;\n",
              "    }\n",
              "</style>\n",
              "<table border=\"1\" class=\"dataframe\">\n",
              "  <thead>\n",
              "    <tr style=\"text-align: right;\">\n",
              "      <th></th>\n",
              "      <th>missing_value_count</th>\n",
              "      <th>missing_value_percentage</th>\n",
              "    </tr>\n",
              "  </thead>\n",
              "  <tbody>\n",
              "    <tr>\n",
              "      <th>name</th>\n",
              "      <td>0</td>\n",
              "      <td>0.00</td>\n",
              "    </tr>\n",
              "    <tr>\n",
              "      <th>year</th>\n",
              "      <td>0</td>\n",
              "      <td>0.00</td>\n",
              "    </tr>\n",
              "    <tr>\n",
              "      <th>selling_price</th>\n",
              "      <td>0</td>\n",
              "      <td>0.00</td>\n",
              "    </tr>\n",
              "    <tr>\n",
              "      <th>km_driven</th>\n",
              "      <td>0</td>\n",
              "      <td>0.00</td>\n",
              "    </tr>\n",
              "    <tr>\n",
              "      <th>fuel</th>\n",
              "      <td>0</td>\n",
              "      <td>0.00</td>\n",
              "    </tr>\n",
              "    <tr>\n",
              "      <th>seller_type</th>\n",
              "      <td>0</td>\n",
              "      <td>0.00</td>\n",
              "    </tr>\n",
              "    <tr>\n",
              "      <th>transmission</th>\n",
              "      <td>0</td>\n",
              "      <td>0.00</td>\n",
              "    </tr>\n",
              "    <tr>\n",
              "      <th>owner</th>\n",
              "      <td>0</td>\n",
              "      <td>0.00</td>\n",
              "    </tr>\n",
              "    <tr>\n",
              "      <th>mileage(km/ltr/kg)</th>\n",
              "      <td>221</td>\n",
              "      <td>2.72</td>\n",
              "    </tr>\n",
              "    <tr>\n",
              "      <th>engine</th>\n",
              "      <td>221</td>\n",
              "      <td>2.72</td>\n",
              "    </tr>\n",
              "    <tr>\n",
              "      <th>max_power</th>\n",
              "      <td>215</td>\n",
              "      <td>2.65</td>\n",
              "    </tr>\n",
              "    <tr>\n",
              "      <th>seats</th>\n",
              "      <td>221</td>\n",
              "      <td>2.72</td>\n",
              "    </tr>\n",
              "  </tbody>\n",
              "</table>\n",
              "</div>"
            ],
            "text/plain": [
              "                    missing_value_count  missing_value_percentage\n",
              "name                                  0                      0.00\n",
              "year                                  0                      0.00\n",
              "selling_price                         0                      0.00\n",
              "km_driven                             0                      0.00\n",
              "fuel                                  0                      0.00\n",
              "seller_type                           0                      0.00\n",
              "transmission                          0                      0.00\n",
              "owner                                 0                      0.00\n",
              "mileage(km/ltr/kg)                  221                      2.72\n",
              "engine                              221                      2.72\n",
              "max_power                           215                      2.65\n",
              "seats                               221                      2.72"
            ]
          },
          "execution_count": 3,
          "metadata": {},
          "output_type": "execute_result"
        }
      ],
      "source": [
        "#checking missing values per column and the percentage\n",
        "missing = df.isnull().sum()\n",
        "percentage_missing = round((missing/len(df)) * 100, 2)\n",
        "data_dict = {\"missing_value_count\": missing,\n",
        "            \"missing_value_percentage\": percentage_missing}\n",
        "missing_df = pd.DataFrame(data_dict)\n",
        "missing_df\n"
      ]
    },
    {
      "cell_type": "code",
      "execution_count": null,
      "id": "128b93ca",
      "metadata": {
        "id": "128b93ca"
      },
      "outputs": [],
      "source": [
        "#Drop any rows where the target variable (selling price) is missing\n",
        "df['selling_price'].isnull().sum()\n",
        "df.dropna(subset=[\"selling_price\"], inplace= True)"
      ]
    },
    {
      "cell_type": "code",
      "execution_count": null,
      "id": "a3a53260",
      "metadata": {
        "id": "a3a53260",
        "outputId": "2f508e10-ffc1-49fb-a761-8beed73d14d2"
      },
      "outputs": [
        {
          "data": {
            "text/plain": [
              "name                    0\n",
              "year                    0\n",
              "selling_price           0\n",
              "km_driven               0\n",
              "fuel                    0\n",
              "seller_type             0\n",
              "transmission            0\n",
              "owner                   0\n",
              "mileage(km/ltr/kg)      0\n",
              "engine                221\n",
              "max_power             215\n",
              "seats                 221\n",
              "dtype: int64"
            ]
          },
          "execution_count": 5,
          "metadata": {},
          "output_type": "execute_result"
        }
      ],
      "source": [
        "#Fill missing values in the “mileage” column with the column’s mean.\n",
        "df[\"mileage(km/ltr/kg)\"] = df[\"mileage(km/ltr/kg)\"].fillna(df[\"mileage(km/ltr/kg)\"].mean())\n",
        "df.isnull().sum()\n"
      ]
    },
    {
      "cell_type": "code",
      "execution_count": null,
      "id": "5c2b283f",
      "metadata": {
        "id": "5c2b283f",
        "outputId": "5a3abd3c-1050-4c05-c97e-bfa7dfbdfb53"
      },
      "outputs": [
        {
          "data": {
            "image/png": "[encoded data removed]",
            "text/plain": [
              "<Figure size 640x480 with 1 Axes>"
            ]
          },
          "metadata": {},
          "output_type": "display_data"
        }
      ],
      "source": [
        "#visualizing engine & seats\n",
        "Missing_columns = [\"engine\", \"seats\"]\n",
        "for col in Missing_columns:\n",
        "    plt.Figure(figsize=(15,5))\n",
        "    sns.histplot(df, x=df[col], kde=True)\n",
        "    plt.title(f\"A plot showing the distribution of {col} column\")\n",
        "    plt.xlabel(col)\n"
      ]
    },
    {
      "cell_type": "code",
      "execution_count": null,
      "id": "22640c8c",
      "metadata": {
        "id": "22640c8c",
        "outputId": "15e0f816-3191-4bf4-8a7a-a034b4376ebd"
      },
      "outputs": [
        {
          "name": "stdout",
          "output_type": "stream",
          "text": [
            "Fill the  missing values for: engine\n",
            "****************************************************************************************************\n",
            "Fill the  missing values for: seats\n",
            "****************************************************************************************************\n"
          ]
        }
      ],
      "source": [
        "#Filling missing values with median\n",
        "for col in Missing_columns:\n",
        "    df[col] = df[col].fillna(df[col].median())\n",
        "    print(f\"Fill the  missing values for: {col}\")\n",
        "    print(\"*\"*100)\n"
      ]
    },
    {
      "cell_type": "code",
      "execution_count": null,
      "id": "a41d68ee",
      "metadata": {
        "id": "a41d68ee",
        "outputId": "6a63da4b-435b-4f95-973a-6c12941febd8"
      },
      "outputs": [
        {
          "data": {
            "image/png": "[encoded data removed]",
            "text/plain": [
              "<Figure size 1000x500 with 1 Axes>"
            ]
          },
          "metadata": {},
          "output_type": "display_data"
        }
      ],
      "source": [
        "#Check if there are any outliers in the “selling price” column using a boxplot.\n",
        "plt.figure(figsize=(10,5))\n",
        "sns.boxplot(x=df['selling_price'])\n",
        "plt.title(\"BoxPlot of Selling Price\")\n",
        "plt.show()\n",
        "\n",
        "\n"
      ]
    },
    {
      "cell_type": "code",
      "execution_count": null,
      "id": "6eb07f78",
      "metadata": {
        "id": "6eb07f78",
        "outputId": "1509d6fc-1eb6-4e76-cecb-7cd3f30b1062"
      },
      "outputs": [
        {
          "data": {
            "text/html": [
              "<div>\n",
              "<style scoped>\n",
              "    .dataframe tbody tr th:only-of-type {\n",
              "        vertical-align: middle;\n",
              "    }\n",
              "\n",
              "    .dataframe tbody tr th {\n",
              "        vertical-align: top;\n",
              "    }\n",
              "\n",
              "    .dataframe thead th {\n",
              "        text-align: right;\n",
              "    }\n",
              "</style>\n",
              "<table border=\"1\" class=\"dataframe\">\n",
              "  <thead>\n",
              "    <tr style=\"text-align: right;\">\n",
              "      <th></th>\n",
              "      <th>name</th>\n",
              "      <th>year</th>\n",
              "      <th>selling_price</th>\n",
              "      <th>km_driven</th>\n",
              "      <th>fuel</th>\n",
              "      <th>seller_type</th>\n",
              "      <th>transmission</th>\n",
              "      <th>owner</th>\n",
              "      <th>mileage(km/ltr/kg)</th>\n",
              "      <th>engine</th>\n",
              "      <th>max_power</th>\n",
              "      <th>seats</th>\n",
              "    </tr>\n",
              "  </thead>\n",
              "  <tbody>\n",
              "    <tr>\n",
              "      <th>0</th>\n",
              "      <td>Maruti Swift Dzire VDI</td>\n",
              "      <td>2014</td>\n",
              "      <td>450000</td>\n",
              "      <td>145500</td>\n",
              "      <td>Diesel</td>\n",
              "      <td>Individual</td>\n",
              "      <td>Manual</td>\n",
              "      <td>First Owner</td>\n",
              "      <td>23.40</td>\n",
              "      <td>1248.0</td>\n",
              "      <td>74</td>\n",
              "      <td>5.0</td>\n",
              "    </tr>\n",
              "    <tr>\n",
              "      <th>1</th>\n",
              "      <td>Skoda Rapid 1.5 TDI Ambition</td>\n",
              "      <td>2014</td>\n",
              "      <td>370000</td>\n",
              "      <td>120000</td>\n",
              "      <td>Diesel</td>\n",
              "      <td>Individual</td>\n",
              "      <td>Manual</td>\n",
              "      <td>Second Owner</td>\n",
              "      <td>21.14</td>\n",
              "      <td>1498.0</td>\n",
              "      <td>103.52</td>\n",
              "      <td>5.0</td>\n",
              "    </tr>\n",
              "    <tr>\n",
              "      <th>2</th>\n",
              "      <td>Honda City 2017-2020 EXi</td>\n",
              "      <td>2006</td>\n",
              "      <td>158000</td>\n",
              "      <td>140000</td>\n",
              "      <td>Petrol</td>\n",
              "      <td>Individual</td>\n",
              "      <td>Manual</td>\n",
              "      <td>Third Owner</td>\n",
              "      <td>17.70</td>\n",
              "      <td>1497.0</td>\n",
              "      <td>78</td>\n",
              "      <td>5.0</td>\n",
              "    </tr>\n",
              "    <tr>\n",
              "      <th>3</th>\n",
              "      <td>Hyundai i20 Sportz Diesel</td>\n",
              "      <td>2010</td>\n",
              "      <td>225000</td>\n",
              "      <td>127000</td>\n",
              "      <td>Diesel</td>\n",
              "      <td>Individual</td>\n",
              "      <td>Manual</td>\n",
              "      <td>First Owner</td>\n",
              "      <td>23.00</td>\n",
              "      <td>1396.0</td>\n",
              "      <td>90</td>\n",
              "      <td>5.0</td>\n",
              "    </tr>\n",
              "    <tr>\n",
              "      <th>4</th>\n",
              "      <td>Maruti Swift VXI BSIII</td>\n",
              "      <td>2007</td>\n",
              "      <td>130000</td>\n",
              "      <td>120000</td>\n",
              "      <td>Petrol</td>\n",
              "      <td>Individual</td>\n",
              "      <td>Manual</td>\n",
              "      <td>First Owner</td>\n",
              "      <td>16.10</td>\n",
              "      <td>1298.0</td>\n",
              "      <td>88.2</td>\n",
              "      <td>5.0</td>\n",
              "    </tr>\n",
              "    <tr>\n",
              "      <th>...</th>\n",
              "      <td>...</td>\n",
              "      <td>...</td>\n",
              "      <td>...</td>\n",
              "      <td>...</td>\n",
              "      <td>...</td>\n",
              "      <td>...</td>\n",
              "      <td>...</td>\n",
              "      <td>...</td>\n",
              "      <td>...</td>\n",
              "      <td>...</td>\n",
              "      <td>...</td>\n",
              "      <td>...</td>\n",
              "    </tr>\n",
              "    <tr>\n",
              "      <th>8123</th>\n",
              "      <td>Hyundai i20 Magna</td>\n",
              "      <td>2013</td>\n",
              "      <td>320000</td>\n",
              "      <td>110000</td>\n",
              "      <td>Petrol</td>\n",
              "      <td>Individual</td>\n",
              "      <td>Manual</td>\n",
              "      <td>First Owner</td>\n",
              "      <td>18.50</td>\n",
              "      <td>1197.0</td>\n",
              "      <td>82.85</td>\n",
              "      <td>5.0</td>\n",
              "    </tr>\n",
              "    <tr>\n",
              "      <th>8124</th>\n",
              "      <td>Hyundai Verna CRDi SX</td>\n",
              "      <td>2007</td>\n",
              "      <td>135000</td>\n",
              "      <td>119000</td>\n",
              "      <td>Diesel</td>\n",
              "      <td>Individual</td>\n",
              "      <td>Manual</td>\n",
              "      <td>Fourth &amp; Above Owner</td>\n",
              "      <td>16.80</td>\n",
              "      <td>1493.0</td>\n",
              "      <td>110</td>\n",
              "      <td>5.0</td>\n",
              "    </tr>\n",
              "    <tr>\n",
              "      <th>8125</th>\n",
              "      <td>Maruti Swift Dzire ZDi</td>\n",
              "      <td>2009</td>\n",
              "      <td>382000</td>\n",
              "      <td>120000</td>\n",
              "      <td>Diesel</td>\n",
              "      <td>Individual</td>\n",
              "      <td>Manual</td>\n",
              "      <td>First Owner</td>\n",
              "      <td>19.30</td>\n",
              "      <td>1248.0</td>\n",
              "      <td>73.9</td>\n",
              "      <td>5.0</td>\n",
              "    </tr>\n",
              "    <tr>\n",
              "      <th>8126</th>\n",
              "      <td>Tata Indigo CR4</td>\n",
              "      <td>2013</td>\n",
              "      <td>290000</td>\n",
              "      <td>25000</td>\n",
              "      <td>Diesel</td>\n",
              "      <td>Individual</td>\n",
              "      <td>Manual</td>\n",
              "      <td>First Owner</td>\n",
              "      <td>23.57</td>\n",
              "      <td>1396.0</td>\n",
              "      <td>70</td>\n",
              "      <td>5.0</td>\n",
              "    </tr>\n",
              "    <tr>\n",
              "      <th>8127</th>\n",
              "      <td>Tata Indigo CR4</td>\n",
              "      <td>2013</td>\n",
              "      <td>290000</td>\n",
              "      <td>25000</td>\n",
              "      <td>Diesel</td>\n",
              "      <td>Individual</td>\n",
              "      <td>Manual</td>\n",
              "      <td>First Owner</td>\n",
              "      <td>23.57</td>\n",
              "      <td>1396.0</td>\n",
              "      <td>70</td>\n",
              "      <td>5.0</td>\n",
              "    </tr>\n",
              "  </tbody>\n",
              "</table>\n",
              "<p>8011 rows × 12 columns</p>\n",
              "</div>"
            ],
            "text/plain": [
              "                              name  year  selling_price  km_driven    fuel  \\\n",
              "0           Maruti Swift Dzire VDI  2014         450000     145500  Diesel   \n",
              "1     Skoda Rapid 1.5 TDI Ambition  2014         370000     120000  Diesel   \n",
              "2         Honda City 2017-2020 EXi  2006         158000     140000  Petrol   \n",
              "3        Hyundai i20 Sportz Diesel  2010         225000     127000  Diesel   \n",
              "4           Maruti Swift VXI BSIII  2007         130000     120000  Petrol   \n",
              "...                            ...   ...            ...        ...     ...   \n",
              "8123             Hyundai i20 Magna  2013         320000     110000  Petrol   \n",
              "8124         Hyundai Verna CRDi SX  2007         135000     119000  Diesel   \n",
              "8125        Maruti Swift Dzire ZDi  2009         382000     120000  Diesel   \n",
              "8126               Tata Indigo CR4  2013         290000      25000  Diesel   \n",
              "8127               Tata Indigo CR4  2013         290000      25000  Diesel   \n",
              "\n",
              "     seller_type transmission                 owner  mileage(km/ltr/kg)  \\\n",
              "0     Individual       Manual           First Owner               23.40   \n",
              "1     Individual       Manual          Second Owner               21.14   \n",
              "2     Individual       Manual           Third Owner               17.70   \n",
              "3     Individual       Manual           First Owner               23.00   \n",
              "4     Individual       Manual           First Owner               16.10   \n",
              "...          ...          ...                   ...                 ...   \n",
              "8123  Individual       Manual           First Owner               18.50   \n",
              "8124  Individual       Manual  Fourth & Above Owner               16.80   \n",
              "8125  Individual       Manual           First Owner               19.30   \n",
              "8126  Individual       Manual           First Owner               23.57   \n",
              "8127  Individual       Manual           First Owner               23.57   \n",
              "\n",
              "      engine max_power  seats  \n",
              "0     1248.0        74    5.0  \n",
              "1     1498.0    103.52    5.0  \n",
              "2     1497.0        78    5.0  \n",
              "3     1396.0        90    5.0  \n",
              "4     1298.0      88.2    5.0  \n",
              "...      ...       ...    ...  \n",
              "8123  1197.0     82.85    5.0  \n",
              "8124  1493.0       110    5.0  \n",
              "8125  1248.0      73.9    5.0  \n",
              "8126  1396.0        70    5.0  \n",
              "8127  1396.0        70    5.0  \n",
              "\n",
              "[8011 rows x 12 columns]"
            ]
          },
          "execution_count": 9,
          "metadata": {},
          "output_type": "execute_result"
        }
      ],
      "source": [
        "df_filtered = df[(df['selling_price'] >= 10000) & (df['selling_price'] <= 5000000)]\n",
        "df_filtered"
      ]
    },
    {
      "cell_type": "code",
      "execution_count": null,
      "id": "d56485d4",
      "metadata": {
        "id": "d56485d4",
        "outputId": "cd769dd1-2b6d-4b67-a0e6-475941feab1f"
      },
      "outputs": [
        {
          "data": {
            "text/html": [
              "<div>\n",
              "<style scoped>\n",
              "    .dataframe tbody tr th:only-of-type {\n",
              "        vertical-align: middle;\n",
              "    }\n",
              "\n",
              "    .dataframe tbody tr th {\n",
              "        vertical-align: top;\n",
              "    }\n",
              "\n",
              "    .dataframe thead th {\n",
              "        text-align: right;\n",
              "    }\n",
              "</style>\n",
              "<table border=\"1\" class=\"dataframe\">\n",
              "  <thead>\n",
              "    <tr style=\"text-align: right;\">\n",
              "      <th></th>\n",
              "      <th>name</th>\n",
              "      <th>year</th>\n",
              "      <th>selling_price</th>\n",
              "      <th>km_driven</th>\n",
              "      <th>fuel</th>\n",
              "      <th>seller_type</th>\n",
              "      <th>transmission</th>\n",
              "      <th>owner</th>\n",
              "      <th>mileage(km/ltr/kg)</th>\n",
              "      <th>engine</th>\n",
              "      <th>max_power</th>\n",
              "      <th>seats</th>\n",
              "    </tr>\n",
              "  </thead>\n",
              "  <tbody>\n",
              "    <tr>\n",
              "      <th>0</th>\n",
              "      <td>Maruti Swift Dzire VDI</td>\n",
              "      <td>2014</td>\n",
              "      <td>450000</td>\n",
              "      <td>145500</td>\n",
              "      <td>Diesel</td>\n",
              "      <td>Individual</td>\n",
              "      <td>Manual</td>\n",
              "      <td>First Owner</td>\n",
              "      <td>23.40</td>\n",
              "      <td>1248.0</td>\n",
              "      <td>74</td>\n",
              "      <td>5.0</td>\n",
              "    </tr>\n",
              "    <tr>\n",
              "      <th>1</th>\n",
              "      <td>Skoda Rapid 1.5 TDI Ambition</td>\n",
              "      <td>2014</td>\n",
              "      <td>370000</td>\n",
              "      <td>120000</td>\n",
              "      <td>Diesel</td>\n",
              "      <td>Individual</td>\n",
              "      <td>Manual</td>\n",
              "      <td>Second Owner</td>\n",
              "      <td>21.14</td>\n",
              "      <td>1498.0</td>\n",
              "      <td>103.52</td>\n",
              "      <td>5.0</td>\n",
              "    </tr>\n",
              "    <tr>\n",
              "      <th>2</th>\n",
              "      <td>Honda City 2017-2020 EXi</td>\n",
              "      <td>2006</td>\n",
              "      <td>158000</td>\n",
              "      <td>140000</td>\n",
              "      <td>Petrol</td>\n",
              "      <td>Individual</td>\n",
              "      <td>Manual</td>\n",
              "      <td>Third Owner</td>\n",
              "      <td>17.70</td>\n",
              "      <td>1497.0</td>\n",
              "      <td>78</td>\n",
              "      <td>5.0</td>\n",
              "    </tr>\n",
              "    <tr>\n",
              "      <th>3</th>\n",
              "      <td>Hyundai i20 Sportz Diesel</td>\n",
              "      <td>2010</td>\n",
              "      <td>225000</td>\n",
              "      <td>127000</td>\n",
              "      <td>Diesel</td>\n",
              "      <td>Individual</td>\n",
              "      <td>Manual</td>\n",
              "      <td>First Owner</td>\n",
              "      <td>23.00</td>\n",
              "      <td>1396.0</td>\n",
              "      <td>90</td>\n",
              "      <td>5.0</td>\n",
              "    </tr>\n",
              "    <tr>\n",
              "      <th>4</th>\n",
              "      <td>Maruti Swift VXI BSIII</td>\n",
              "      <td>2007</td>\n",
              "      <td>130000</td>\n",
              "      <td>120000</td>\n",
              "      <td>Petrol</td>\n",
              "      <td>Individual</td>\n",
              "      <td>Manual</td>\n",
              "      <td>First Owner</td>\n",
              "      <td>16.10</td>\n",
              "      <td>1298.0</td>\n",
              "      <td>88.2</td>\n",
              "      <td>5.0</td>\n",
              "    </tr>\n",
              "    <tr>\n",
              "      <th>...</th>\n",
              "      <td>...</td>\n",
              "      <td>...</td>\n",
              "      <td>...</td>\n",
              "      <td>...</td>\n",
              "      <td>...</td>\n",
              "      <td>...</td>\n",
              "      <td>...</td>\n",
              "      <td>...</td>\n",
              "      <td>...</td>\n",
              "      <td>...</td>\n",
              "      <td>...</td>\n",
              "      <td>...</td>\n",
              "    </tr>\n",
              "    <tr>\n",
              "      <th>8123</th>\n",
              "      <td>Hyundai i20 Magna</td>\n",
              "      <td>2013</td>\n",
              "      <td>320000</td>\n",
              "      <td>110000</td>\n",
              "      <td>Petrol</td>\n",
              "      <td>Individual</td>\n",
              "      <td>Manual</td>\n",
              "      <td>First Owner</td>\n",
              "      <td>18.50</td>\n",
              "      <td>1197.0</td>\n",
              "      <td>82.85</td>\n",
              "      <td>5.0</td>\n",
              "    </tr>\n",
              "    <tr>\n",
              "      <th>8124</th>\n",
              "      <td>Hyundai Verna CRDi SX</td>\n",
              "      <td>2007</td>\n",
              "      <td>135000</td>\n",
              "      <td>119000</td>\n",
              "      <td>Diesel</td>\n",
              "      <td>Individual</td>\n",
              "      <td>Manual</td>\n",
              "      <td>Fourth &amp; Above Owner</td>\n",
              "      <td>16.80</td>\n",
              "      <td>1493.0</td>\n",
              "      <td>110</td>\n",
              "      <td>5.0</td>\n",
              "    </tr>\n",
              "    <tr>\n",
              "      <th>8125</th>\n",
              "      <td>Maruti Swift Dzire ZDi</td>\n",
              "      <td>2009</td>\n",
              "      <td>382000</td>\n",
              "      <td>120000</td>\n",
              "      <td>Diesel</td>\n",
              "      <td>Individual</td>\n",
              "      <td>Manual</td>\n",
              "      <td>First Owner</td>\n",
              "      <td>19.30</td>\n",
              "      <td>1248.0</td>\n",
              "      <td>73.9</td>\n",
              "      <td>5.0</td>\n",
              "    </tr>\n",
              "    <tr>\n",
              "      <th>8126</th>\n",
              "      <td>Tata Indigo CR4</td>\n",
              "      <td>2013</td>\n",
              "      <td>290000</td>\n",
              "      <td>25000</td>\n",
              "      <td>Diesel</td>\n",
              "      <td>Individual</td>\n",
              "      <td>Manual</td>\n",
              "      <td>First Owner</td>\n",
              "      <td>23.57</td>\n",
              "      <td>1396.0</td>\n",
              "      <td>70</td>\n",
              "      <td>5.0</td>\n",
              "    </tr>\n",
              "    <tr>\n",
              "      <th>8127</th>\n",
              "      <td>Tata Indigo CR4</td>\n",
              "      <td>2013</td>\n",
              "      <td>290000</td>\n",
              "      <td>25000</td>\n",
              "      <td>Diesel</td>\n",
              "      <td>Individual</td>\n",
              "      <td>Manual</td>\n",
              "      <td>First Owner</td>\n",
              "      <td>23.57</td>\n",
              "      <td>1396.0</td>\n",
              "      <td>70</td>\n",
              "      <td>5.0</td>\n",
              "    </tr>\n",
              "  </tbody>\n",
              "</table>\n",
              "<p>8011 rows × 12 columns</p>\n",
              "</div>"
            ],
            "text/plain": [
              "                              name  year  selling_price  km_driven    fuel  \\\n",
              "0           Maruti Swift Dzire VDI  2014         450000     145500  Diesel   \n",
              "1     Skoda Rapid 1.5 TDI Ambition  2014         370000     120000  Diesel   \n",
              "2         Honda City 2017-2020 EXi  2006         158000     140000  Petrol   \n",
              "3        Hyundai i20 Sportz Diesel  2010         225000     127000  Diesel   \n",
              "4           Maruti Swift VXI BSIII  2007         130000     120000  Petrol   \n",
              "...                            ...   ...            ...        ...     ...   \n",
              "8123             Hyundai i20 Magna  2013         320000     110000  Petrol   \n",
              "8124         Hyundai Verna CRDi SX  2007         135000     119000  Diesel   \n",
              "8125        Maruti Swift Dzire ZDi  2009         382000     120000  Diesel   \n",
              "8126               Tata Indigo CR4  2013         290000      25000  Diesel   \n",
              "8127               Tata Indigo CR4  2013         290000      25000  Diesel   \n",
              "\n",
              "     seller_type transmission                 owner  mileage(km/ltr/kg)  \\\n",
              "0     Individual       Manual           First Owner               23.40   \n",
              "1     Individual       Manual          Second Owner               21.14   \n",
              "2     Individual       Manual           Third Owner               17.70   \n",
              "3     Individual       Manual           First Owner               23.00   \n",
              "4     Individual       Manual           First Owner               16.10   \n",
              "...          ...          ...                   ...                 ...   \n",
              "8123  Individual       Manual           First Owner               18.50   \n",
              "8124  Individual       Manual  Fourth & Above Owner               16.80   \n",
              "8125  Individual       Manual           First Owner               19.30   \n",
              "8126  Individual       Manual           First Owner               23.57   \n",
              "8127  Individual       Manual           First Owner               23.57   \n",
              "\n",
              "      engine max_power  seats  \n",
              "0     1248.0        74    5.0  \n",
              "1     1498.0    103.52    5.0  \n",
              "2     1497.0        78    5.0  \n",
              "3     1396.0        90    5.0  \n",
              "4     1298.0      88.2    5.0  \n",
              "...      ...       ...    ...  \n",
              "8123  1197.0     82.85    5.0  \n",
              "8124  1493.0       110    5.0  \n",
              "8125  1248.0      73.9    5.0  \n",
              "8126  1396.0        70    5.0  \n",
              "8127  1396.0        70    5.0  \n",
              "\n",
              "[8011 rows x 12 columns]"
            ]
          },
          "execution_count": 10,
          "metadata": {},
          "output_type": "execute_result"
        }
      ],
      "source": [
        "df_filtered = df[(df['selling_price'] >= 10000) & (df['selling_price'] <= 5000000)]\n",
        "df_filtered"
      ]
    },
    {
      "cell_type": "code",
      "execution_count": null,
      "id": "76811e94",
      "metadata": {
        "id": "76811e94",
        "outputId": "1815f5d1-fcf8-4d68-f125-5c4522d0d513"
      },
      "outputs": [
        {
          "name": "stdout",
          "output_type": "stream",
          "text": [
            "Dataset after removing duplicates: 6906 rows remaining.\n"
          ]
        }
      ],
      "source": [
        "# Remove duplicate rows\n",
        "df_filtered = df_filtered.drop_duplicates()\n",
        "\n",
        "# Reset index after removing duplicates\n",
        "df_filtered = df_filtered.reset_index(drop=True)\n",
        "\n",
        "print(f\"Dataset after removing duplicates: {df_filtered.shape[0]} rows remaining.\")\n"
      ]
    },
    {
      "cell_type": "code",
      "execution_count": null,
      "id": "a0b4325b",
      "metadata": {
        "id": "a0b4325b",
        "outputId": "a7a7a53a-0b2f-4b21-8895-0c8ba4d3fbbb"
      },
      "outputs": [
        {
          "data": {
            "text/html": [
              "<div>\n",
              "<style scoped>\n",
              "    .dataframe tbody tr th:only-of-type {\n",
              "        vertical-align: middle;\n",
              "    }\n",
              "\n",
              "    .dataframe tbody tr th {\n",
              "        vertical-align: top;\n",
              "    }\n",
              "\n",
              "    .dataframe thead th {\n",
              "        text-align: right;\n",
              "    }\n",
              "</style>\n",
              "<table border=\"1\" class=\"dataframe\">\n",
              "  <thead>\n",
              "    <tr style=\"text-align: right;\">\n",
              "      <th></th>\n",
              "      <th>name</th>\n",
              "      <th>year</th>\n",
              "      <th>selling_price</th>\n",
              "      <th>km_driven</th>\n",
              "      <th>fuel</th>\n",
              "      <th>seller_type</th>\n",
              "      <th>transmission</th>\n",
              "      <th>owner</th>\n",
              "      <th>mileage(km/ltr/kg)</th>\n",
              "      <th>engine</th>\n",
              "      <th>max_power</th>\n",
              "      <th>seats</th>\n",
              "    </tr>\n",
              "  </thead>\n",
              "  <tbody>\n",
              "    <tr>\n",
              "      <th>0</th>\n",
              "      <td>Maruti Swift Dzire VDI</td>\n",
              "      <td>2014</td>\n",
              "      <td>450000</td>\n",
              "      <td>145500</td>\n",
              "      <td>Diesel</td>\n",
              "      <td>Individual</td>\n",
              "      <td>Manual</td>\n",
              "      <td>First Owner</td>\n",
              "      <td>23.40</td>\n",
              "      <td>1248.0</td>\n",
              "      <td>74</td>\n",
              "      <td>5.0</td>\n",
              "    </tr>\n",
              "    <tr>\n",
              "      <th>1</th>\n",
              "      <td>Skoda Rapid 1.5 TDI Ambition</td>\n",
              "      <td>2014</td>\n",
              "      <td>370000</td>\n",
              "      <td>120000</td>\n",
              "      <td>Diesel</td>\n",
              "      <td>Individual</td>\n",
              "      <td>Manual</td>\n",
              "      <td>Second Owner</td>\n",
              "      <td>21.14</td>\n",
              "      <td>1498.0</td>\n",
              "      <td>103.52</td>\n",
              "      <td>5.0</td>\n",
              "    </tr>\n",
              "    <tr>\n",
              "      <th>2</th>\n",
              "      <td>Honda City 2017-2020 EXi</td>\n",
              "      <td>2006</td>\n",
              "      <td>158000</td>\n",
              "      <td>140000</td>\n",
              "      <td>Petrol</td>\n",
              "      <td>Individual</td>\n",
              "      <td>Manual</td>\n",
              "      <td>Third Owner</td>\n",
              "      <td>17.70</td>\n",
              "      <td>1497.0</td>\n",
              "      <td>78</td>\n",
              "      <td>5.0</td>\n",
              "    </tr>\n",
              "    <tr>\n",
              "      <th>3</th>\n",
              "      <td>Hyundai i20 Sportz Diesel</td>\n",
              "      <td>2010</td>\n",
              "      <td>225000</td>\n",
              "      <td>127000</td>\n",
              "      <td>Diesel</td>\n",
              "      <td>Individual</td>\n",
              "      <td>Manual</td>\n",
              "      <td>First Owner</td>\n",
              "      <td>23.00</td>\n",
              "      <td>1396.0</td>\n",
              "      <td>90</td>\n",
              "      <td>5.0</td>\n",
              "    </tr>\n",
              "    <tr>\n",
              "      <th>4</th>\n",
              "      <td>Maruti Swift VXI BSIII</td>\n",
              "      <td>2007</td>\n",
              "      <td>130000</td>\n",
              "      <td>120000</td>\n",
              "      <td>Petrol</td>\n",
              "      <td>Individual</td>\n",
              "      <td>Manual</td>\n",
              "      <td>First Owner</td>\n",
              "      <td>16.10</td>\n",
              "      <td>1298.0</td>\n",
              "      <td>88.2</td>\n",
              "      <td>5.0</td>\n",
              "    </tr>\n",
              "    <tr>\n",
              "      <th>...</th>\n",
              "      <td>...</td>\n",
              "      <td>...</td>\n",
              "      <td>...</td>\n",
              "      <td>...</td>\n",
              "      <td>...</td>\n",
              "      <td>...</td>\n",
              "      <td>...</td>\n",
              "      <td>...</td>\n",
              "      <td>...</td>\n",
              "      <td>...</td>\n",
              "      <td>...</td>\n",
              "      <td>...</td>\n",
              "    </tr>\n",
              "    <tr>\n",
              "      <th>6901</th>\n",
              "      <td>Maruti Wagon R VXI BS IV with ABS</td>\n",
              "      <td>2013</td>\n",
              "      <td>260000</td>\n",
              "      <td>50000</td>\n",
              "      <td>Petrol</td>\n",
              "      <td>Individual</td>\n",
              "      <td>Manual</td>\n",
              "      <td>Second Owner</td>\n",
              "      <td>18.90</td>\n",
              "      <td>998.0</td>\n",
              "      <td>67.1</td>\n",
              "      <td>5.0</td>\n",
              "    </tr>\n",
              "    <tr>\n",
              "      <th>6902</th>\n",
              "      <td>Hyundai i20 Magna 1.4 CRDi</td>\n",
              "      <td>2014</td>\n",
              "      <td>475000</td>\n",
              "      <td>80000</td>\n",
              "      <td>Diesel</td>\n",
              "      <td>Individual</td>\n",
              "      <td>Manual</td>\n",
              "      <td>Second Owner</td>\n",
              "      <td>22.54</td>\n",
              "      <td>1396.0</td>\n",
              "      <td>88.73</td>\n",
              "      <td>5.0</td>\n",
              "    </tr>\n",
              "    <tr>\n",
              "      <th>6903</th>\n",
              "      <td>Hyundai i20 Magna</td>\n",
              "      <td>2013</td>\n",
              "      <td>320000</td>\n",
              "      <td>110000</td>\n",
              "      <td>Petrol</td>\n",
              "      <td>Individual</td>\n",
              "      <td>Manual</td>\n",
              "      <td>First Owner</td>\n",
              "      <td>18.50</td>\n",
              "      <td>1197.0</td>\n",
              "      <td>82.85</td>\n",
              "      <td>5.0</td>\n",
              "    </tr>\n",
              "    <tr>\n",
              "      <th>6904</th>\n",
              "      <td>Hyundai Verna CRDi SX</td>\n",
              "      <td>2007</td>\n",
              "      <td>135000</td>\n",
              "      <td>119000</td>\n",
              "      <td>Diesel</td>\n",
              "      <td>Individual</td>\n",
              "      <td>Manual</td>\n",
              "      <td>Fourth &amp; Above Owner</td>\n",
              "      <td>16.80</td>\n",
              "      <td>1493.0</td>\n",
              "      <td>110</td>\n",
              "      <td>5.0</td>\n",
              "    </tr>\n",
              "    <tr>\n",
              "      <th>6905</th>\n",
              "      <td>Maruti Swift Dzire ZDi</td>\n",
              "      <td>2009</td>\n",
              "      <td>382000</td>\n",
              "      <td>120000</td>\n",
              "      <td>Diesel</td>\n",
              "      <td>Individual</td>\n",
              "      <td>Manual</td>\n",
              "      <td>First Owner</td>\n",
              "      <td>19.30</td>\n",
              "      <td>1248.0</td>\n",
              "      <td>73.9</td>\n",
              "      <td>5.0</td>\n",
              "    </tr>\n",
              "  </tbody>\n",
              "</table>\n",
              "<p>6906 rows × 12 columns</p>\n",
              "</div>"
            ],
            "text/plain": [
              "                                   name  year  selling_price  km_driven  \\\n",
              "0                Maruti Swift Dzire VDI  2014         450000     145500   \n",
              "1          Skoda Rapid 1.5 TDI Ambition  2014         370000     120000   \n",
              "2              Honda City 2017-2020 EXi  2006         158000     140000   \n",
              "3             Hyundai i20 Sportz Diesel  2010         225000     127000   \n",
              "4                Maruti Swift VXI BSIII  2007         130000     120000   \n",
              "...                                 ...   ...            ...        ...   \n",
              "6901  Maruti Wagon R VXI BS IV with ABS  2013         260000      50000   \n",
              "6902         Hyundai i20 Magna 1.4 CRDi  2014         475000      80000   \n",
              "6903                  Hyundai i20 Magna  2013         320000     110000   \n",
              "6904              Hyundai Verna CRDi SX  2007         135000     119000   \n",
              "6905             Maruti Swift Dzire ZDi  2009         382000     120000   \n",
              "\n",
              "        fuel seller_type transmission                 owner  \\\n",
              "0     Diesel  Individual       Manual           First Owner   \n",
              "1     Diesel  Individual       Manual          Second Owner   \n",
              "2     Petrol  Individual       Manual           Third Owner   \n",
              "3     Diesel  Individual       Manual           First Owner   \n",
              "4     Petrol  Individual       Manual           First Owner   \n",
              "...      ...         ...          ...                   ...   \n",
              "6901  Petrol  Individual       Manual          Second Owner   \n",
              "6902  Diesel  Individual       Manual          Second Owner   \n",
              "6903  Petrol  Individual       Manual           First Owner   \n",
              "6904  Diesel  Individual       Manual  Fourth & Above Owner   \n",
              "6905  Diesel  Individual       Manual           First Owner   \n",
              "\n",
              "      mileage(km/ltr/kg)  engine max_power  seats  \n",
              "0                  23.40  1248.0        74    5.0  \n",
              "1                  21.14  1498.0    103.52    5.0  \n",
              "2                  17.70  1497.0        78    5.0  \n",
              "3                  23.00  1396.0        90    5.0  \n",
              "4                  16.10  1298.0      88.2    5.0  \n",
              "...                  ...     ...       ...    ...  \n",
              "6901               18.90   998.0      67.1    5.0  \n",
              "6902               22.54  1396.0     88.73    5.0  \n",
              "6903               18.50  1197.0     82.85    5.0  \n",
              "6904               16.80  1493.0       110    5.0  \n",
              "6905               19.30  1248.0      73.9    5.0  \n",
              "\n",
              "[6906 rows x 12 columns]"
            ]
          },
          "execution_count": 12,
          "metadata": {},
          "output_type": "execute_result"
        }
      ],
      "source": [
        "df_filtered.columns = df_filtered.columns.str.lower()\n",
        "df_filtered"
      ]
    },
    {
      "cell_type": "code",
      "execution_count": null,
      "id": "8d8bbfa6",
      "metadata": {
        "id": "8d8bbfa6"
      },
      "outputs": [],
      "source": [
        "# 2️⃣ Convert numeric-like strings to numbers\n",
        "for col in df.columns:\n",
        "    if df[col].dtype == 'object':\n",
        "        try:\n",
        "            df[col] = pd.to_numeric(df[col])\n",
        "        except ValueError:\n",
        "            pass"
      ]
    },
    {
      "cell_type": "code",
      "execution_count": null,
      "id": "05664c68",
      "metadata": {
        "id": "05664c68",
        "outputId": "c629124f-6f2f-4210-e022-b781a9cbd591"
      },
      "outputs": [
        {
          "data": {
            "text/html": [
              "<div>\n",
              "<style scoped>\n",
              "    .dataframe tbody tr th:only-of-type {\n",
              "        vertical-align: middle;\n",
              "    }\n",
              "\n",
              "    .dataframe tbody tr th {\n",
              "        vertical-align: top;\n",
              "    }\n",
              "\n",
              "    .dataframe thead th {\n",
              "        text-align: right;\n",
              "    }\n",
              "</style>\n",
              "<table border=\"1\" class=\"dataframe\">\n",
              "  <thead>\n",
              "    <tr style=\"text-align: right;\">\n",
              "      <th></th>\n",
              "      <th>name</th>\n",
              "      <th>year</th>\n",
              "      <th>selling_price</th>\n",
              "      <th>km_driven</th>\n",
              "      <th>fuel</th>\n",
              "      <th>seller_type</th>\n",
              "      <th>transmission</th>\n",
              "      <th>owner</th>\n",
              "      <th>mileage(km/ltr/kg)</th>\n",
              "      <th>engine</th>\n",
              "      <th>max_power</th>\n",
              "      <th>seats</th>\n",
              "      <th>price_per_km</th>\n",
              "    </tr>\n",
              "  </thead>\n",
              "  <tbody>\n",
              "    <tr>\n",
              "      <th>0</th>\n",
              "      <td>Maruti Swift Dzire VDI</td>\n",
              "      <td>2014</td>\n",
              "      <td>450000</td>\n",
              "      <td>145500</td>\n",
              "      <td>Diesel</td>\n",
              "      <td>Individual</td>\n",
              "      <td>Manual</td>\n",
              "      <td>First Owner</td>\n",
              "      <td>23.40</td>\n",
              "      <td>1248.0</td>\n",
              "      <td>74</td>\n",
              "      <td>5.0</td>\n",
              "      <td>19230.769231</td>\n",
              "    </tr>\n",
              "    <tr>\n",
              "      <th>1</th>\n",
              "      <td>Skoda Rapid 1.5 TDI Ambition</td>\n",
              "      <td>2014</td>\n",
              "      <td>370000</td>\n",
              "      <td>120000</td>\n",
              "      <td>Diesel</td>\n",
              "      <td>Individual</td>\n",
              "      <td>Manual</td>\n",
              "      <td>Second Owner</td>\n",
              "      <td>21.14</td>\n",
              "      <td>1498.0</td>\n",
              "      <td>103.52</td>\n",
              "      <td>5.0</td>\n",
              "      <td>17502.365184</td>\n",
              "    </tr>\n",
              "    <tr>\n",
              "      <th>2</th>\n",
              "      <td>Honda City 2017-2020 EXi</td>\n",
              "      <td>2006</td>\n",
              "      <td>158000</td>\n",
              "      <td>140000</td>\n",
              "      <td>Petrol</td>\n",
              "      <td>Individual</td>\n",
              "      <td>Manual</td>\n",
              "      <td>Third Owner</td>\n",
              "      <td>17.70</td>\n",
              "      <td>1497.0</td>\n",
              "      <td>78</td>\n",
              "      <td>5.0</td>\n",
              "      <td>8926.553672</td>\n",
              "    </tr>\n",
              "    <tr>\n",
              "      <th>3</th>\n",
              "      <td>Hyundai i20 Sportz Diesel</td>\n",
              "      <td>2010</td>\n",
              "      <td>225000</td>\n",
              "      <td>127000</td>\n",
              "      <td>Diesel</td>\n",
              "      <td>Individual</td>\n",
              "      <td>Manual</td>\n",
              "      <td>First Owner</td>\n",
              "      <td>23.00</td>\n",
              "      <td>1396.0</td>\n",
              "      <td>90</td>\n",
              "      <td>5.0</td>\n",
              "      <td>9782.608696</td>\n",
              "    </tr>\n",
              "    <tr>\n",
              "      <th>4</th>\n",
              "      <td>Maruti Swift VXI BSIII</td>\n",
              "      <td>2007</td>\n",
              "      <td>130000</td>\n",
              "      <td>120000</td>\n",
              "      <td>Petrol</td>\n",
              "      <td>Individual</td>\n",
              "      <td>Manual</td>\n",
              "      <td>First Owner</td>\n",
              "      <td>16.10</td>\n",
              "      <td>1298.0</td>\n",
              "      <td>88.2</td>\n",
              "      <td>5.0</td>\n",
              "      <td>8074.534161</td>\n",
              "    </tr>\n",
              "    <tr>\n",
              "      <th>...</th>\n",
              "      <td>...</td>\n",
              "      <td>...</td>\n",
              "      <td>...</td>\n",
              "      <td>...</td>\n",
              "      <td>...</td>\n",
              "      <td>...</td>\n",
              "      <td>...</td>\n",
              "      <td>...</td>\n",
              "      <td>...</td>\n",
              "      <td>...</td>\n",
              "      <td>...</td>\n",
              "      <td>...</td>\n",
              "      <td>...</td>\n",
              "    </tr>\n",
              "    <tr>\n",
              "      <th>6901</th>\n",
              "      <td>Maruti Wagon R VXI BS IV with ABS</td>\n",
              "      <td>2013</td>\n",
              "      <td>260000</td>\n",
              "      <td>50000</td>\n",
              "      <td>Petrol</td>\n",
              "      <td>Individual</td>\n",
              "      <td>Manual</td>\n",
              "      <td>Second Owner</td>\n",
              "      <td>18.90</td>\n",
              "      <td>998.0</td>\n",
              "      <td>67.1</td>\n",
              "      <td>5.0</td>\n",
              "      <td>13756.613757</td>\n",
              "    </tr>\n",
              "    <tr>\n",
              "      <th>6902</th>\n",
              "      <td>Hyundai i20 Magna 1.4 CRDi</td>\n",
              "      <td>2014</td>\n",
              "      <td>475000</td>\n",
              "      <td>80000</td>\n",
              "      <td>Diesel</td>\n",
              "      <td>Individual</td>\n",
              "      <td>Manual</td>\n",
              "      <td>Second Owner</td>\n",
              "      <td>22.54</td>\n",
              "      <td>1396.0</td>\n",
              "      <td>88.73</td>\n",
              "      <td>5.0</td>\n",
              "      <td>21073.646850</td>\n",
              "    </tr>\n",
              "    <tr>\n",
              "      <th>6903</th>\n",
              "      <td>Hyundai i20 Magna</td>\n",
              "      <td>2013</td>\n",
              "      <td>320000</td>\n",
              "      <td>110000</td>\n",
              "      <td>Petrol</td>\n",
              "      <td>Individual</td>\n",
              "      <td>Manual</td>\n",
              "      <td>First Owner</td>\n",
              "      <td>18.50</td>\n",
              "      <td>1197.0</td>\n",
              "      <td>82.85</td>\n",
              "      <td>5.0</td>\n",
              "      <td>17297.297297</td>\n",
              "    </tr>\n",
              "    <tr>\n",
              "      <th>6904</th>\n",
              "      <td>Hyundai Verna CRDi SX</td>\n",
              "      <td>2007</td>\n",
              "      <td>135000</td>\n",
              "      <td>119000</td>\n",
              "      <td>Diesel</td>\n",
              "      <td>Individual</td>\n",
              "      <td>Manual</td>\n",
              "      <td>Fourth &amp; Above Owner</td>\n",
              "      <td>16.80</td>\n",
              "      <td>1493.0</td>\n",
              "      <td>110</td>\n",
              "      <td>5.0</td>\n",
              "      <td>8035.714286</td>\n",
              "    </tr>\n",
              "    <tr>\n",
              "      <th>6905</th>\n",
              "      <td>Maruti Swift Dzire ZDi</td>\n",
              "      <td>2009</td>\n",
              "      <td>382000</td>\n",
              "      <td>120000</td>\n",
              "      <td>Diesel</td>\n",
              "      <td>Individual</td>\n",
              "      <td>Manual</td>\n",
              "      <td>First Owner</td>\n",
              "      <td>19.30</td>\n",
              "      <td>1248.0</td>\n",
              "      <td>73.9</td>\n",
              "      <td>5.0</td>\n",
              "      <td>19792.746114</td>\n",
              "    </tr>\n",
              "  </tbody>\n",
              "</table>\n",
              "<p>6906 rows × 13 columns</p>\n",
              "</div>"
            ],
            "text/plain": [
              "                                   name  year  selling_price  km_driven  \\\n",
              "0                Maruti Swift Dzire VDI  2014         450000     145500   \n",
              "1          Skoda Rapid 1.5 TDI Ambition  2014         370000     120000   \n",
              "2              Honda City 2017-2020 EXi  2006         158000     140000   \n",
              "3             Hyundai i20 Sportz Diesel  2010         225000     127000   \n",
              "4                Maruti Swift VXI BSIII  2007         130000     120000   \n",
              "...                                 ...   ...            ...        ...   \n",
              "6901  Maruti Wagon R VXI BS IV with ABS  2013         260000      50000   \n",
              "6902         Hyundai i20 Magna 1.4 CRDi  2014         475000      80000   \n",
              "6903                  Hyundai i20 Magna  2013         320000     110000   \n",
              "6904              Hyundai Verna CRDi SX  2007         135000     119000   \n",
              "6905             Maruti Swift Dzire ZDi  2009         382000     120000   \n",
              "\n",
              "        fuel seller_type transmission                 owner  \\\n",
              "0     Diesel  Individual       Manual           First Owner   \n",
              "1     Diesel  Individual       Manual          Second Owner   \n",
              "2     Petrol  Individual       Manual           Third Owner   \n",
              "3     Diesel  Individual       Manual           First Owner   \n",
              "4     Petrol  Individual       Manual           First Owner   \n",
              "...      ...         ...          ...                   ...   \n",
              "6901  Petrol  Individual       Manual          Second Owner   \n",
              "6902  Diesel  Individual       Manual          Second Owner   \n",
              "6903  Petrol  Individual       Manual           First Owner   \n",
              "6904  Diesel  Individual       Manual  Fourth & Above Owner   \n",
              "6905  Diesel  Individual       Manual           First Owner   \n",
              "\n",
              "      mileage(km/ltr/kg)  engine max_power  seats  price_per_km  \n",
              "0                  23.40  1248.0        74    5.0  19230.769231  \n",
              "1                  21.14  1498.0    103.52    5.0  17502.365184  \n",
              "2                  17.70  1497.0        78    5.0   8926.553672  \n",
              "3                  23.00  1396.0        90    5.0   9782.608696  \n",
              "4                  16.10  1298.0      88.2    5.0   8074.534161  \n",
              "...                  ...     ...       ...    ...           ...  \n",
              "6901               18.90   998.0      67.1    5.0  13756.613757  \n",
              "6902               22.54  1396.0     88.73    5.0  21073.646850  \n",
              "6903               18.50  1197.0     82.85    5.0  17297.297297  \n",
              "6904               16.80  1493.0       110    5.0   8035.714286  \n",
              "6905               19.30  1248.0      73.9    5.0  19792.746114  \n",
              "\n",
              "[6906 rows x 13 columns]"
            ]
          },
          "execution_count": 14,
          "metadata": {},
          "output_type": "execute_result"
        }
      ],
      "source": [
        "# 4️⃣ Create a new column: price per kilometre\n",
        "# Remove extra spaces, tabs, and special characters from column names\n",
        "df_filtered.columns = df_filtered.columns.str.strip()\n",
        "df_filtered.columns = df_filtered.columns.str.lower()\n",
        "\n",
        "# Now create price_per_km\n",
        "df_filtered['price_per_km'] = df_filtered['selling_price'] / df_filtered['mileage(km/ltr/kg)']\n",
        "\n",
        "df_filtered\n"
      ]
    },
    {
      "cell_type": "code",
      "execution_count": null,
      "id": "95da6ce4",
      "metadata": {
        "id": "95da6ce4",
        "outputId": "49781ac8-2751-4b4c-b146-3587a07cc45f"
      },
      "outputs": [
        {
          "name": "stdout",
          "output_type": "stream",
          "text": [
            "['name', 'year', 'selling_price', 'km_driven', 'fuel', 'seller_type', 'transmission', 'owner', 'mileage(km/ltr/kg)', 'engine', 'max_power', 'seats', 'price_per_km']\n"
          ]
        }
      ],
      "source": [
        "print(df_filtered.columns.tolist())\n"
      ]
    },
    {
      "cell_type": "code",
      "execution_count": null,
      "id": "0b34a285",
      "metadata": {
        "id": "0b34a285",
        "outputId": "0775f2ce-cb55-4bb3-9429-ee282a89caae"
      },
      "outputs": [
        {
          "name": "stdout",
          "output_type": "stream",
          "text": [
            "Cleaned Data Saved as 'cleaned_cars.csv':\n",
            "                                    name  year  selling_price  km_driven  \\\n",
            "0                Maruti Swift Dzire VDI  2014         450000     145500   \n",
            "1          Skoda Rapid 1.5 TDI Ambition  2014         370000     120000   \n",
            "2              Honda City 2017-2020 EXi  2006         158000     140000   \n",
            "3             Hyundai i20 Sportz Diesel  2010         225000     127000   \n",
            "4                Maruti Swift VXI BSIII  2007         130000     120000   \n",
            "...                                 ...   ...            ...        ...   \n",
            "6901  Maruti Wagon R VXI BS IV with ABS  2013         260000      50000   \n",
            "6902         Hyundai i20 Magna 1.4 CRDi  2014         475000      80000   \n",
            "6903                  Hyundai i20 Magna  2013         320000     110000   \n",
            "6904              Hyundai Verna CRDi SX  2007         135000     119000   \n",
            "6905             Maruti Swift Dzire ZDi  2009         382000     120000   \n",
            "\n",
            "        fuel seller_type transmission                 owner  \\\n",
            "0     Diesel  Individual       Manual           First Owner   \n",
            "1     Diesel  Individual       Manual          Second Owner   \n",
            "2     Petrol  Individual       Manual           Third Owner   \n",
            "3     Diesel  Individual       Manual           First Owner   \n",
            "4     Petrol  Individual       Manual           First Owner   \n",
            "...      ...         ...          ...                   ...   \n",
            "6901  Petrol  Individual       Manual          Second Owner   \n",
            "6902  Diesel  Individual       Manual          Second Owner   \n",
            "6903  Petrol  Individual       Manual           First Owner   \n",
            "6904  Diesel  Individual       Manual  Fourth & Above Owner   \n",
            "6905  Diesel  Individual       Manual           First Owner   \n",
            "\n",
            "      mileage(km/ltr/kg)  engine max_power  seats  price_per_km  \n",
            "0                  23.40  1248.0        74    5.0  19230.769231  \n",
            "1                  21.14  1498.0    103.52    5.0  17502.365184  \n",
            "2                  17.70  1497.0        78    5.0   8926.553672  \n",
            "3                  23.00  1396.0        90    5.0   9782.608696  \n",
            "4                  16.10  1298.0      88.2    5.0   8074.534161  \n",
            "...                  ...     ...       ...    ...           ...  \n",
            "6901               18.90   998.0      67.1    5.0  13756.613757  \n",
            "6902               22.54  1396.0     88.73    5.0  21073.646850  \n",
            "6903               18.50  1197.0     82.85    5.0  17297.297297  \n",
            "6904               16.80  1493.0       110    5.0   8035.714286  \n",
            "6905               19.30  1248.0      73.9    5.0  19792.746114  \n",
            "\n",
            "[6906 rows x 13 columns]\n"
          ]
        }
      ],
      "source": [
        "# 5️⃣ Reset the index after cleaning\n",
        "df_filtered = df_filtered.reset_index(drop=True)\n",
        "\n",
        "# 6️⃣ Save cleaned dataset to CSV\n",
        "df_filtered.to_csv(\"cleaned_cars.csv\", index=False)\n",
        "print(\"Cleaned Data Saved as 'cleaned_cars.csv':\\n\", df_filtered)"
      ]
    },
    {
      "cell_type": "code",
      "execution_count": null,
      "id": "439f29f7",
      "metadata": {
        "id": "439f29f7",
        "outputId": "27b9d38a-248a-4de5-feff-03c01dbf7352"
      },
      "outputs": [
        {
          "data": {
            "text/plain": [
              "np.float64(501378.18114682887)"
            ]
          },
          "execution_count": 17,
          "metadata": {},
          "output_type": "execute_result"
        }
      ],
      "source": [
        "mean_price = df_filtered['selling_price'].mean()\n",
        "mean_price"
      ]
    },
    {
      "cell_type": "code",
      "execution_count": null,
      "id": "85e9e127",
      "metadata": {
        "id": "85e9e127",
        "outputId": "4a06fe1b-0f01-44a9-aa4d-8a870531727b"
      },
      "outputs": [
        {
          "name": "stdout",
          "output_type": "stream",
          "text": [
            "Fuel type counts:\n",
            " fuel\n",
            "Diesel    3741\n",
            "Petrol    3071\n",
            "CNG         56\n",
            "LPG         38\n",
            "Name: count, dtype: int64\n",
            "\n",
            "Most common fuel type: Diesel\n"
          ]
        }
      ],
      "source": [
        "# Find the most common fuel type\n",
        "most_common_fuel = df_filtered['fuel'].value_counts().idxmax()\n",
        "fuel_counts = df_filtered['fuel'].value_counts()\n",
        "\n",
        "print(\"Fuel type counts:\\n\", fuel_counts)\n",
        "print(\"\\nMost common fuel type:\", most_common_fuel)\n"
      ]
    },
    {
      "cell_type": "code",
      "execution_count": null,
      "id": "3b5d0319",
      "metadata": {
        "id": "3b5d0319",
        "outputId": "e1db10a8-5a8f-4df1-c607-bc3685c0a46e"
      },
      "outputs": [
        {
          "data": {
            "image/png": "[encoded data removed]",
            "text/plain": [
              "<Figure size 800x500 with 1 Axes>"
            ]
          },
          "metadata": {},
          "output_type": "display_data"
        }
      ],
      "source": [
        "# Histogram for selling_price\n",
        "plt.figure(figsize=(8,5))\n",
        "sns.histplot(df_filtered['selling_price'], bins=30, kde=True)  # kde=True adds a smooth curve\n",
        "plt.title(\"Distribution of Selling Prices\")\n",
        "plt.xlabel(\"Selling Price\")\n",
        "plt.ylabel(\"Frequency\")\n",
        "plt.show()"
      ]
    },
    {
      "cell_type": "code",
      "execution_count": null,
      "id": "12fc478a",
      "metadata": {
        "id": "12fc478a"
      },
      "outputs": [],
      "source": [
        "current_year = datetime.now().year\n",
        "if 'year' in df_filtered.columns:\n",
        "    df_filtered['car_age'] = current_year - df_filtered['year']\n",
        ""
      ]
    },
    {
      "cell_type": "code",
      "execution_count": null,
      "id": "75ad4da6",
      "metadata": {
        "id": "75ad4da6",
        "outputId": "2bc4f0bb-e751-4db3-fe66-1dd305e8071f"
      },
      "outputs": [
        {
          "data": {
            "image/png": "[encoded data removed]",
            "text/plain": [
              "<Figure size 800x500 with 1 Axes>"
            ]
          },
          "metadata": {},
          "output_type": "display_data"
        }
      ],
      "source": [
        "# Scatter plot\n",
        "plt.figure(figsize=(8,5))\n",
        "sns.scatterplot(x='car_age', y='selling_price', data=df_filtered)\n",
        "plt.title(\"Car Age vs. Selling Price\")\n",
        "plt.xlabel(\"Car Age (Years)\")\n",
        "plt.ylabel(\"Selling Price\")\n",
        "plt.show()"
      ]
    },
    {
      "cell_type": "code",
      "execution_count": null,
      "id": "f5066cd1",
      "metadata": {
        "id": "f5066cd1",
        "outputId": "aab8607e-78c1-4f8f-9513-500638f02316"
      },
      "outputs": [
        {
          "name": "stdout",
          "output_type": "stream",
          "text": [
            "     fuel  selling_price\n",
            "0     CNG  300499.946429\n",
            "1  Diesel  620448.482224\n",
            "2     LPG  200421.052632\n",
            "3  Petrol  363717.339629\n"
          ]
        }
      ],
      "source": [
        "# Group by fuel type and calculate mean selling price\n",
        "#use .reset_index kumake code cleaner and easier to plot. The fuel column inabehave like a normal column.\n",
        "avg_price_by_fuel = df_filtered.groupby('fuel')['selling_price'].mean().reset_index()\n",
        "\n",
        "print(avg_price_by_fuel)\n"
      ]
    },
    {
      "cell_type": "code",
      "execution_count": null,
      "id": "b91f3990",
      "metadata": {
        "id": "b91f3990",
        "outputId": "def7d205-34ad-4011-dd35-9318fbba6541"
      },
      "outputs": [
        {
          "data": {
            "image/png": "[encoded data removed]",
            "text/plain": [
              "<Figure size 800x500 with 1 Axes>"
            ]
          },
          "metadata": {},
          "output_type": "display_data"
        }
      ],
      "source": [
        "# Bar chart: count of cars by transmission type\n",
        "plt.figure(figsize=(8,5))\n",
        "sns.countplot(x='transmission', data=df_filtered, edgecolor='black')\n",
        "plt.title(\"Number of Cars by Transmission Type\")\n",
        "plt.xlabel(\"Transmission Type\")\n",
        "plt.ylabel(\"Number of Cars\")\n",
        "plt.show()"
      ]
    },
    {
      "cell_type": "code",
      "execution_count": null,
      "id": "ceea6c43",
      "metadata": {
        "id": "ceea6c43",
        "outputId": "e155d2b0-fb59-4a7a-ba2b-25c3ae9d1955"
      },
      "outputs": [
        {
          "name": "stdout",
          "output_type": "stream",
          "text": [
            "name                  Maruti Alto 800 CNG LXI Optional\n",
            "year                                              2019\n",
            "selling_price                                   330000\n",
            "km_driven                                        10000\n",
            "fuel                                               CNG\n",
            "seller_type                                 Individual\n",
            "transmission                                    Manual\n",
            "owner                                     Second Owner\n",
            "mileage(km/ltr/kg)                               33.44\n",
            "engine                                           796.0\n",
            "max_power                                         40.3\n",
            "seats                                              4.0\n",
            "price_per_km                               9868.421053\n",
            "car_age                                              6\n",
            "Name: 35, dtype: object\n"
          ]
        }
      ],
      "source": [
        "# Remove leading/trailing spaces and hidden characters from column names\n",
        "df_filtered.columns = df_filtered.columns.str.strip()\n",
        "\n",
        "# Now find the highest mileage car\n",
        "highest_mileage_car = df_filtered.loc[df_filtered['mileage(km/ltr/kg)'].idxmax()]\n",
        "\n",
        "print(highest_mileage_car)\n"
      ]
    },
    {
      "cell_type": "code",
      "execution_count": null,
      "id": "62e698a8",
      "metadata": {
        "id": "62e698a8",
        "outputId": "1bcfa155-766c-4b9c-c432-503ad5e091f9"
      },
      "outputs": [
        {
          "name": "stdout",
          "output_type": "stream",
          "text": [
            "Correlation between mileage and selling price: -0.12\n"
          ]
        }
      ],
      "source": [
        "# Calculate correlation between mileage and selling price\n",
        "correlation = df_filtered['mileage(km/ltr/kg)'].corr(df_filtered['selling_price'])\n",
        "\n",
        "print(f\"Correlation between mileage and selling price: {correlation:.2f}\")\n"
      ]
    },
    {
      "cell_type": "code",
      "execution_count": null,
      "id": "fd9279cb",
      "metadata": {
        "id": "fd9279cb",
        "outputId": "529af126-e666-41f8-88c8-2088d3f6a242"
      },
      "outputs": [
        {
          "data": {
            "image/png": "[encoded data removed]",
            "text/plain": [
              "<Figure size 1000x600 with 2 Axes>"
            ]
          },
          "metadata": {},
          "output_type": "display_data"
        }
      ],
      "source": [
        "\n",
        "# Calculate the correlation matrix for numeric columns\n",
        "corr_matrix = df_filtered.corr(numeric_only=True)\n",
        "\n",
        "# Plot the heatmap\n",
        "plt.figure(figsize=(10, 6))\n",
        "sns.heatmap(corr_matrix, annot=True, cmap='coolwarm', fmt=\".2f\")\n",
        "plt.title(\"Correlation Heatmap\")\n",
        "plt.show()"
      ]
    },
    {
      "cell_type": "code",
      "execution_count": null,
      "id": "9eb6c2b3",
      "metadata": {
        "id": "9eb6c2b3",
        "outputId": "9597af34-fbc3-4a4e-a5ce-8add62d033d6"
      },
      "outputs": [
        {
          "name": "stdout",
          "output_type": "stream",
          "text": [
            "transmission\n",
            "Automatic    1.143215e+06\n",
            "Manual       4.442991e+05\n",
            "Name: selling_price, dtype: float64\n"
          ]
        }
      ],
      "source": [
        "# Group by transmission type and calculate the average selling price\n",
        "avg_prices = df_filtered.groupby('transmission')['selling_price'].mean()\n",
        "print(avg_prices)"
      ]
    },
    {
      "cell_type": "code",
      "execution_count": null,
      "id": "f1bd1569",
      "metadata": {
        "id": "f1bd1569",
        "outputId": "64ea1ddb-b733-43f1-c658-ebf9a7e49939"
      },
      "outputs": [
        {
          "data": {
            "image/png": "[encoded data removed]",
            "text/plain": [
              "<Figure size 640x480 with 1 Axes>"
            ]
          },
          "metadata": {},
          "output_type": "display_data"
        }
      ],
      "source": [
        "plt.Figure(figsize=(10, 8))\n",
        "sns.lineplot(data=df, x='year', y='selling_price')\n",
        "plt.title(\"Trend for Selling Prices over the years\")\n",
        "plt.xlabel(\"years\")\n",
        "plt.ylabel(\"Selling Price\")\n",
        "plt.grid(True)\n",
        "plt.show()"
      ]
    },
    {
      "cell_type": "code",
      "execution_count": null,
      "id": "08b5e9b4",
      "metadata": {
        "id": "08b5e9b4",
        "outputId": "a283ac1a-1d14-4f9f-db7b-84ba72b86afb"
      },
      "outputs": [
        {
          "name": "stdout",
          "output_type": "stream",
          "text": [
            "        fuel  selling_price\n",
            "4961     CNG         545000\n",
            "283   Diesel        4600000\n",
            "2783     LPG         375000\n",
            "133   Petrol        4100000\n"
          ]
        }
      ],
      "source": [
        "# Find the index of the most expensive car in each fuel type group\n",
        "most_expensive_cars = df_filtered.loc[df_filtered.groupby('fuel')['selling_price'].idxmax()]\n",
        "\n",
        "print(most_expensive_cars[['fuel', 'selling_price']])\n"
      ]
    },
    {
      "cell_type": "code",
      "execution_count": null,
      "id": "a7a26e12",
      "metadata": {
        "id": "a7a26e12",
        "outputId": "5c8b4e66-ba85-4ebf-9127-5d4ff73dfcc3"
      },
      "outputs": [
        {
          "name": "stdout",
          "output_type": "stream",
          "text": [
            "The most common brand is: Maruti Swift Dzire VDI\n"
          ]
        }
      ],
      "source": [
        "# Check most common brand\n",
        "most_common_brand = df_filtered['name'].value_counts().idxmax()\n",
        "\n",
        "print(f\"The most common brand is: {most_common_brand}\")\n"
      ]
    },
    {
      "cell_type": "code",
      "execution_count": null,
      "id": "31b13a54",
      "metadata": {
        "id": "31b13a54",
        "outputId": "8e413a1d-7f6d-4545-dc0c-93de0ad89810"
      },
      "outputs": [
        {
          "data": {
            "text/plain": [
              "'Maruti'"
            ]
          },
          "execution_count": 31,
          "metadata": {},
          "output_type": "execute_result"
        }
      ],
      "source": [
        "df['brand'] = df['name'].apply(lambda x: x.split()[0])\n",
        "most_frequent_brand = df['brand'].value_counts().idxmax()\n",
        "most_frequent_brand"
      ]
    },
    {
      "cell_type": "code",
      "execution_count": null,
      "id": "5c35c1c1",
      "metadata": {
        "id": "5c35c1c1",
        "outputId": "45d78fb3-b3ba-43de-cb3a-93bb790dcf47"
      },
      "outputs": [
        {
          "name": "stdout",
          "output_type": "stream",
          "text": [
            "     fuel transmission  count\n",
            "2  Diesel       Manual   3457\n",
            "5  Petrol       Manual   2791\n",
            "1  Diesel    Automatic    284\n",
            "4  Petrol    Automatic    280\n",
            "0     CNG       Manual     56\n"
          ]
        }
      ],
      "source": [
        "# Group by fuel_type and transmission, count the combinations, and sort\n",
        "top_combinations = (\n",
        "    df_filtered.groupby(['fuel', 'transmission'])\n",
        "    .size()\n",
        "    .reset_index(name='count')\n",
        "    .sort_values(by='count', ascending=False)\n",
        "    .head(5)\n",
        ")\n",
        "\n",
        "print(top_combinations)\n"
      ]
    },
    {
      "cell_type": "code",
      "execution_count": null,
      "id": "82c495b1",
      "metadata": {
        "id": "82c495b1"
      },
      "outputs": [],
      "source": [
        "from sklearn.linear_model import LinearRegression\n",
        "from sklearn.metrics import mean_squared_error\n",
        "from scipy import stats\n",
        "from statsmodels.stats.outliers_influence import variance_inflation_factor\n",
        "import statsmodels.api as sm\n"
      ]
    },
    {
      "cell_type": "code",
      "execution_count": null,
      "id": "76f25d2e",
      "metadata": {
        "id": "76f25d2e"
      },
      "outputs": [],
      "source": [
        "#Train a Linear Regression model to predict the car’s selling price using selected features.\n",
        "# Split the dataset into train/test sets, train the model, and print the coefficients and intercept."
      ]
    },
    {
      "cell_type": "code",
      "execution_count": null,
      "id": "ee9cef05",
      "metadata": {
        "id": "ee9cef05",
        "outputId": "4cb1477f-1b8c-4eb0-fce5-a09c0c8d7f8f"
      },
      "outputs": [
        {
          "name": "stdout",
          "output_type": "stream",
          "text": [
            "['mileage(km/ltr/kg)', 'engine', 'max_power']\n"
          ]
        }
      ],
      "source": [
        "# Select numeric features for regression\n",
        "features = ['mileage(km/ltr/kg)', 'engine', 'max_power']\n",
        "X = df_filtered[features]\n",
        "y = df_filtered['selling_price']\n",
        "print(features)"
      ]
    },
    {
      "cell_type": "code",
      "execution_count": null,
      "id": "e68bce19",
      "metadata": {
        "id": "e68bce19",
        "outputId": "2976ca9b-fca3-49c7-8158-1892954b1af6"
      },
      "outputs": [
        {
          "data": {
            "text/html": [
              "<div>\n",
              "<style scoped>\n",
              "    .dataframe tbody tr th:only-of-type {\n",
              "        vertical-align: middle;\n",
              "    }\n",
              "\n",
              "    .dataframe tbody tr th {\n",
              "        vertical-align: top;\n",
              "    }\n",
              "\n",
              "    .dataframe thead th {\n",
              "        text-align: right;\n",
              "    }\n",
              "</style>\n",
              "<table border=\"1\" class=\"dataframe\">\n",
              "  <thead>\n",
              "    <tr style=\"text-align: right;\">\n",
              "      <th></th>\n",
              "      <th>name</th>\n",
              "      <th>year</th>\n",
              "      <th>selling_price</th>\n",
              "      <th>km_driven</th>\n",
              "      <th>fuel</th>\n",
              "      <th>seller_type</th>\n",
              "      <th>transmission</th>\n",
              "      <th>owner</th>\n",
              "      <th>mileage(km/ltr/kg)</th>\n",
              "      <th>engine</th>\n",
              "      <th>max_power</th>\n",
              "      <th>seats</th>\n",
              "      <th>brand</th>\n",
              "    </tr>\n",
              "  </thead>\n",
              "  <tbody>\n",
              "  </tbody>\n",
              "</table>\n",
              "</div>"
            ],
            "text/plain": [
              "Empty DataFrame\n",
              "Columns: [name, year, selling_price, km_driven, fuel, seller_type, transmission, owner, mileage(km/ltr/kg), engine, max_power, seats, brand]\n",
              "Index: []"
            ]
          },
          "execution_count": 44,
          "metadata": {},
          "output_type": "execute_result"
        },
        {
          "name": "stdout",
          "output_type": "stream",
          "text": [
            "ERROR! Session/line number was not unique in database. History logging moved to new session 14\n"
          ]
        }
      ],
      "source": [
        "df[df['engine'].apply(lambda x: isinstance(x, str))]\n"
      ]
    },
    {
      "cell_type": "code",
      "execution_count": null,
      "id": "e5ed7d00",
      "metadata": {
        "id": "e5ed7d00",
        "outputId": "d912292f-7b1d-4e5d-d2ef-5600bd63d0d6"
      },
      "outputs": [
        {
          "name": "stderr",
          "output_type": "stream",
          "text": [
            "C:\\Users\\Hp\\AppData\\Local\\Temp\\ipykernel_2428\\4090442273.py:1: FutureWarning: DataFrame.applymap has been deprecated. Use DataFrame.map instead.\n",
            "  df[['engine']].applymap(type).value_counts()\n"
          ]
        },
        {
          "data": {
            "text/plain": [
              "engine         \n",
              "<class 'float'>    8128\n",
              "Name: count, dtype: int64"
            ]
          },
          "execution_count": 46,
          "metadata": {},
          "output_type": "execute_result"
        }
      ],
      "source": [
        "df[['engine']].applymap(type).value_counts()\n"
      ]
    }
  ],
  "metadata": {
    "kernelspec": {
      "display_name": "Python 3",
      "language": "python",
      "name": "python3"
    },
    "language_info": {
      "codemirror_mode": {
        "name": "ipython",
        "version": 3
      },
      "file_extension": ".py",
      "mimetype": "text/x-python",
      "name": "python",
      "nbconvert_exporter": "python",
      "pygments_lexer": "ipython3",
      "version": "3.13.6"
    },
    "colab": {
      "provenance": [],
      "include_colab_link": true
    }
  },
  "nbformat": 4,
  "nbformat_minor": 5
}