{
  "nbformat": 4,
  "nbformat_minor": 0,
  "metadata": {
    "colab": {
      "provenance": [],
      "authorship_tag": "ABX9TyMHPRr4ldFmR9Rlvfda8FpM",
      "include_colab_link": true
    },
    "kernelspec": {
      "name": "python3",
      "display_name": "Python 3"
    },
    "language_info": {
      "name": "python"
    }
  },
  "cells": [
    {
      "cell_type": "markdown",
      "metadata": {
        "id": "view-in-github",
        "colab_type": "text"
      },
      "source": [
        "<a href=\"https://colab.research.google.com/github/angwelo/ASSIGNMENT-/blob/main/machine_learning.ipynb\" target=\"_parent\"><img src=\"https://colab.research.google.com/assets/colab-badge.svg\" alt=\"Open In Colab\"/></a>"
      ]
    },
    {
      "cell_type": "code",
      "execution_count": 9,
      "metadata": {
        "id": "62ZEjqvHkeZD"
      },
      "outputs": [],
      "source": [
        "#importing libraries\n",
        "import numpy as np\n",
        "import pandas as pd\n",
        "from sklearn.model_selection import train_test_split\n",
        "from sklearn.metrics import classification_report\n",
        "from sklearn.datasets import load_iris\n",
        "from sklearn.ensemble import RandomForestClassifier,AdaBoostClassifier,GradientBoostingClassifier,StackingClassifier\n",
        "from xgboost import XGBClassifier\n",
        "from sklearn.linear_model import LogisticRegression"
      ]
    },
    {
      "cell_type": "code",
      "source": [
        "#importing the dataset\n",
        "iris=load_iris()\n",
        "x=iris.data\n",
        "y=iris.target"
      ],
      "metadata": {
        "id": "3qBL5KlCmNU1"
      },
      "execution_count": 3,
      "outputs": []
    },
    {
      "cell_type": "code",
      "source": [
        "X_train,X_test,y_train,y_test= train_test_split(x,y, test_size=0.2,random_state=42)"
      ],
      "metadata": {
        "id": "czsj_QbGmks3"
      },
      "execution_count": 5,
      "outputs": []
    },
    {
      "cell_type": "code",
      "source": [
        "#Initializing The models\n",
        "rf = RandomForestClassifier(random_state=11)\n",
        "log_reg= LogisticRegression()\n",
        "gb = GradientBoostingClassifier(n_estimators=100)\n",
        "ada= AdaBoostClassifier(n_estimators=50)\n",
        "xgb= XGBClassifier(use_label_encoder=False,eval_metric=\"mlogloss\",random_state= 32)\n",
        "est= [\n",
        "    (\"ada\", AdaBoostClassifier(n_estimators=70,random_state=14)),\n",
        "    (\"rf\", RandomForestClassifier(n_estimators=50,random_state=14)),\n",
        "]\n",
        "stack = StackingClassifier(estimators=est,final_estimator=log_reg)\n",
        "models= [rf,ada,log_reg,xgb,gb,stack]\n",
        "\n"
      ],
      "metadata": {
        "id": "8JK5O3kbn8KB"
      },
      "execution_count": 12,
      "outputs": []
    },
    {
      "cell_type": "code",
      "source": [
        "for model in models:\n",
        "  print(f\"Training Model: {model}\")\n",
        "  print(\"*\"*50)\n",
        "  mol=model.fit(X_train,y_train)\n",
        "  print(f\"Predicting on Model: {model}\")\n",
        "  pred = mol.predict(X_test)\n",
        "  print(\"*\"*50)\n",
        "  print(f\"Classification Report For Model: {model}\")\n",
        "  print(\"*\"*50)\n",
        "  print(classification_report(y_test,pred))\n",
        "  print(\"*\"*50)"
      ],
      "metadata": {
        "colab": {
          "base_uri": "https://localhost:8080/"
        },
        "id": "IlrTY2ElroSB",
        "outputId": "e9b81809-6177-4ea5-d562-d1354e11e504"
      },
      "execution_count": 13,
      "outputs": [
        {
          "output_type": "stream",
          "name": "stdout",
          "text": [
            "Training Model: RandomForestClassifier(random_state=11)\n",
            "**************************************************\n",
            "Predicting on Model: RandomForestClassifier(random_state=11)\n",
            "**************************************************\n",
            "Classification Report For Model: RandomForestClassifier(random_state=11)\n",
            "**************************************************\n",
            "              precision    recall  f1-score   support\n",
            "\n",
            "           0       1.00      1.00      1.00        10\n",
            "           1       1.00      1.00      1.00         9\n",
            "           2       1.00      1.00      1.00        11\n",
            "\n",
            "    accuracy                           1.00        30\n",
            "   macro avg       1.00      1.00      1.00        30\n",
            "weighted avg       1.00      1.00      1.00        30\n",
            "\n",
            "**************************************************\n",
            "Training Model: AdaBoostClassifier()\n",
            "**************************************************\n",
            "Predicting on Model: AdaBoostClassifier()\n",
            "**************************************************\n",
            "Classification Report For Model: AdaBoostClassifier()\n",
            "**************************************************\n",
            "              precision    recall  f1-score   support\n",
            "\n",
            "           0       1.00      1.00      1.00        10\n",
            "           1       0.89      0.89      0.89         9\n",
            "           2       0.91      0.91      0.91        11\n",
            "\n",
            "    accuracy                           0.93        30\n",
            "   macro avg       0.93      0.93      0.93        30\n",
            "weighted avg       0.93      0.93      0.93        30\n",
            "\n",
            "**************************************************\n",
            "Training Model: LogisticRegression()\n",
            "**************************************************\n",
            "Predicting on Model: LogisticRegression()\n",
            "**************************************************\n",
            "Classification Report For Model: LogisticRegression()\n",
            "**************************************************\n",
            "              precision    recall  f1-score   support\n",
            "\n",
            "           0       1.00      1.00      1.00        10\n",
            "           1       1.00      1.00      1.00         9\n",
            "           2       1.00      1.00      1.00        11\n",
            "\n",
            "    accuracy                           1.00        30\n",
            "   macro avg       1.00      1.00      1.00        30\n",
            "weighted avg       1.00      1.00      1.00        30\n",
            "\n",
            "**************************************************\n",
            "Training Model: XGBClassifier(base_score=None, booster=None, callbacks=None,\n",
            "              colsample_bylevel=None, colsample_bynode=None,\n",
            "              colsample_bytree=None, device=None, early_stopping_rounds=None,\n",
            "              enable_categorical=False, eval_metric='mlogloss',\n",
            "              feature_types=None, feature_weights=None, gamma=None,\n",
            "              grow_policy=None, importance_type=None,\n",
            "              interaction_constraints=None, learning_rate=None, max_bin=None,\n",
            "              max_cat_threshold=None, max_cat_to_onehot=None,\n",
            "              max_delta_step=None, max_depth=None, max_leaves=None,\n",
            "              min_child_weight=None, missing=nan, monotone_constraints=None,\n",
            "              multi_strategy=None, n_estimators=None, n_jobs=None,\n",
            "              num_parallel_tree=None, ...)\n",
            "**************************************************\n"
          ]
        },
        {
          "output_type": "stream",
          "name": "stderr",
          "text": [
            "/usr/local/lib/python3.11/dist-packages/xgboost/training.py:183: UserWarning: [09:44:13] WARNING: /workspace/src/learner.cc:738: \n",
            "Parameters: { \"use_label_encoder\" } are not used.\n",
            "\n",
            "  bst.update(dtrain, iteration=i, fobj=obj)\n"
          ]
        },
        {
          "output_type": "stream",
          "name": "stdout",
          "text": [
            "Predicting on Model: XGBClassifier(base_score=None, booster=None, callbacks=None,\n",
            "              colsample_bylevel=None, colsample_bynode=None,\n",
            "              colsample_bytree=None, device=None, early_stopping_rounds=None,\n",
            "              enable_categorical=False, eval_metric='mlogloss',\n",
            "              feature_types=None, feature_weights=None, gamma=None,\n",
            "              grow_policy=None, importance_type=None,\n",
            "              interaction_constraints=None, learning_rate=None, max_bin=None,\n",
            "              max_cat_threshold=None, max_cat_to_onehot=None,\n",
            "              max_delta_step=None, max_depth=None, max_leaves=None,\n",
            "              min_child_weight=None, missing=nan, monotone_constraints=None,\n",
            "              multi_strategy=None, n_estimators=None, n_jobs=None,\n",
            "              num_parallel_tree=None, ...)\n",
            "**************************************************\n",
            "Classification Report For Model: XGBClassifier(base_score=None, booster=None, callbacks=None,\n",
            "              colsample_bylevel=None, colsample_bynode=None,\n",
            "              colsample_bytree=None, device=None, early_stopping_rounds=None,\n",
            "              enable_categorical=False, eval_metric='mlogloss',\n",
            "              feature_types=None, feature_weights=None, gamma=None,\n",
            "              grow_policy=None, importance_type=None,\n",
            "              interaction_constraints=None, learning_rate=None, max_bin=None,\n",
            "              max_cat_threshold=None, max_cat_to_onehot=None,\n",
            "              max_delta_step=None, max_depth=None, max_leaves=None,\n",
            "              min_child_weight=None, missing=nan, monotone_constraints=None,\n",
            "              multi_strategy=None, n_estimators=None, n_jobs=None,\n",
            "              num_parallel_tree=None, ...)\n",
            "**************************************************\n",
            "              precision    recall  f1-score   support\n",
            "\n",
            "           0       1.00      1.00      1.00        10\n",
            "           1       1.00      1.00      1.00         9\n",
            "           2       1.00      1.00      1.00        11\n",
            "\n",
            "    accuracy                           1.00        30\n",
            "   macro avg       1.00      1.00      1.00        30\n",
            "weighted avg       1.00      1.00      1.00        30\n",
            "\n",
            "**************************************************\n",
            "Training Model: GradientBoostingClassifier()\n",
            "**************************************************\n",
            "Predicting on Model: GradientBoostingClassifier()\n",
            "**************************************************\n",
            "Classification Report For Model: GradientBoostingClassifier()\n",
            "**************************************************\n",
            "              precision    recall  f1-score   support\n",
            "\n",
            "           0       1.00      1.00      1.00        10\n",
            "           1       1.00      1.00      1.00         9\n",
            "           2       1.00      1.00      1.00        11\n",
            "\n",
            "    accuracy                           1.00        30\n",
            "   macro avg       1.00      1.00      1.00        30\n",
            "weighted avg       1.00      1.00      1.00        30\n",
            "\n",
            "**************************************************\n",
            "Training Model: StackingClassifier(estimators=[('ada',\n",
            "                                AdaBoostClassifier(n_estimators=70,\n",
            "                                                   random_state=14)),\n",
            "                               ('rf',\n",
            "                                RandomForestClassifier(n_estimators=50,\n",
            "                                                       random_state=14))],\n",
            "                   final_estimator=LogisticRegression())\n",
            "**************************************************\n",
            "Predicting on Model: StackingClassifier(estimators=[('ada',\n",
            "                                AdaBoostClassifier(n_estimators=70,\n",
            "                                                   random_state=14)),\n",
            "                               ('rf',\n",
            "                                RandomForestClassifier(n_estimators=50,\n",
            "                                                       random_state=14))],\n",
            "                   final_estimator=LogisticRegression())\n",
            "**************************************************\n",
            "Classification Report For Model: StackingClassifier(estimators=[('ada',\n",
            "                                AdaBoostClassifier(n_estimators=70,\n",
            "                                                   random_state=14)),\n",
            "                               ('rf',\n",
            "                                RandomForestClassifier(n_estimators=50,\n",
            "                                                       random_state=14))],\n",
            "                   final_estimator=LogisticRegression())\n",
            "**************************************************\n",
            "              precision    recall  f1-score   support\n",
            "\n",
            "           0       1.00      1.00      1.00        10\n",
            "           1       1.00      1.00      1.00         9\n",
            "           2       1.00      1.00      1.00        11\n",
            "\n",
            "    accuracy                           1.00        30\n",
            "   macro avg       1.00      1.00      1.00        30\n",
            "weighted avg       1.00      1.00      1.00        30\n",
            "\n",
            "**************************************************\n"
          ]
        }
      ]
    }
  ]
}