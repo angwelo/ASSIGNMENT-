{
  "nbformat": 4,
  "nbformat_minor": 0,
  "metadata": {
    "colab": {
      "provenance": [],
      "authorship_tag": "ABX9TyMuivM6/3X/VX4tsl7GGyZe",
      "include_colab_link": true
    },
    "kernelspec": {
      "name": "python3",
      "display_name": "Python 3"
    },
    "language_info": {
      "name": "python"
    }
  },
  "cells": [
    {
      "cell_type": "markdown",
      "metadata": {
        "id": "view-in-github",
        "colab_type": "text"
      },
      "source": [
        "<a href=\"https://colab.research.google.com/github/angwelo/ASSIGNMENT-/blob/main/kmeans.ipynb\" target=\"_parent\"><img src=\"https://colab.research.google.com/assets/colab-badge.svg\" alt=\"Open In Colab\"/></a>"
      ]
    },
    {
      "cell_type": "code",
      "execution_count": 1,
      "metadata": {
        "colab": {
          "base_uri": "https://localhost:8080/"
        },
        "id": "xmxChITNqKjo",
        "outputId": "f6baa961-f9e9-4044-803c-a7e227f4dfce"
      },
      "outputs": [
        {
          "output_type": "stream",
          "name": "stdout",
          "text": [
            "Cluster centers:\n",
            " [[ 55.33333333  58.33333333]\n",
            " [133.33333333  90.        ]]\n",
            "Labels: [0 0 0 1 1 1]\n"
          ]
        }
      ],
      "source": [
        "from sklearn.cluster import KMeans\n",
        "import pandas as pd\n",
        "\n",
        "# Sample data\n",
        "data = pd.DataFrame({\n",
        "    'Income': [45, 54, 67, 120, 130, 150],\n",
        "    'Spending': [50, 60, 65, 90, 85, 95]\n",
        "})\n",
        "\n",
        "kmeans = KMeans(n_clusters=2)\n",
        "kmeans.fit(data)\n",
        "\n",
        "print(\"Cluster centers:\\n\", kmeans.cluster_centers_)\n",
        "print(\"Labels:\", kmeans.labels_)"
      ]
    }
  ]
}